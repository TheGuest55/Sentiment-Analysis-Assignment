{
 "cells": [
  {
   "cell_type": "markdown",
   "metadata": {},
   "source": [
    "<table class=\"table table-bordered\">\n",
    "    <tr>\n",
    "        <th style=\"text-align:center; width:25%\"><img src='https://www.np.edu.sg/PublishingImages/Pages/default/odp/ICT.jpg' style=\"width: 250px; height: 125px; \"></th>\n",
    "        <th style=\"text-align:center;\"><h1>Deep Learning</h1><h2>Assignment 2 - Sentiment Analysis Model (Problem 1)</h2><h3>AY2020/21 Semester</h3></th>\n",
    "    </tr>\n",
    "</table>"
   ]
  },
  {
   "cell_type": "markdown",
   "metadata": {},
   "source": [
    "## Step 1 - Data Loading, Processing & Sampling"
   ]
  },
  {
   "cell_type": "code",
   "execution_count": 1,
   "metadata": {
    "scrolled": true
   },
   "outputs": [
    {
     "name": "stdout",
     "output_type": "stream",
     "text": [
      "keras:  2.3.0-tf\n"
     ]
    },
    {
     "data": {
      "text/html": [
       "<style>.container { width:95% !important; }</style>"
      ],
      "text/plain": [
       "<IPython.core.display.HTML object>"
      ]
     },
     "metadata": {},
     "output_type": "display_data"
    },
    {
     "name": "stdout",
     "output_type": "stream",
     "text": [
      "{0: '😍', 1: '😂', 2: '📷', 3: '🔥', 4: '❤'}\n",
      "A total of:  5 Emoji Icons\n",
      "the maximum length of the text inputs is  34\n",
      "Found 54076 unique tokens.\n",
      "Shape of data tensor: (42546, 34)\n",
      "Shape of label tensor: (42546,)\n"
     ]
    }
   ],
   "source": [
    "# Import the Required Packages\n",
    "from tensorflow import keras\n",
    "print('keras: ', keras.__version__)\n",
    "\n",
    "from IPython.core.display import display, HTML\n",
    "display(HTML(\"<style>.container { width:95% !important; }</style>\"))\n",
    "\n",
    "from tensorflow.keras.models import Sequential\n",
    "from tensorflow.keras.layers import Embedding, SimpleRNN, Flatten, Dense, GRU, LSTM, Dropout\n",
    "from tensorflow.keras import regularizers\n",
    "from tensorflow.keras.initializers import Constant\n",
    "#=================================================================================================================\n",
    "# Load the emoji_dictionary\n",
    "import pandas as pd\n",
    "df = pd.read_csv('C:/Users/Keck Boy/OneDrive - Ngee Ann Polytechnic/Studies/Y2/S1/DL/Assignment 2/mapping.csv', delimiter=',')\n",
    "emoji_dictionary = df.loc[:,'emoticons'].to_dict()\n",
    "print(emoji_dictionary)\n",
    "print('A total of: ', len(emoji_dictionary), 'Emoji Icons')\n",
    "# load the dataset\n",
    "dat = pd.read_csv('C:/Users/Keck Boy/OneDrive - Ngee Ann Polytechnic/Studies/Y2/S1/DL/Assignment 2/dataset.csv', delimiter=',')\n",
    "texts = dat.loc[:,'TEXT'].values \n",
    "labels = dat.loc[:,'Label'].values\n",
    "# Check the maximum length of texts\n",
    "max_len = -1\n",
    "for example in texts:\n",
    "    if len(example.split()) > max_len:\n",
    "        max_len = len(example.split())\n",
    "        \n",
    "print('the maximum length of the text inputs is ', max_len)\n",
    "#=================================================================================================================\n",
    "# Convert the texts and labels into numeric tensors\n",
    "from tensorflow.keras.preprocessing import sequence\n",
    "from tensorflow.keras.preprocessing.text import Tokenizer\n",
    "from tensorflow.keras.preprocessing.sequence import pad_sequences\n",
    "from tensorflow.keras.utils import to_categorical\n",
    "import numpy as np\n",
    "\n",
    "max_features = 55000  # number of words to consider as features\n",
    "max_words = 55000\n",
    "batch_size = 128\n",
    "\n",
    "\n",
    "tokenizer = Tokenizer(num_words=max_words)\n",
    "tokenizer.fit_on_texts(texts)\n",
    "sequences=tokenizer.texts_to_sequences(texts)\n",
    "\n",
    "word_index=tokenizer.word_index\n",
    "print('Found %s unique tokens.' % len(word_index))\n",
    "\n",
    "X=pad_sequences(sequences)\n",
    "\n",
    "labels = np.asarray(labels)\n",
    "print('Shape of data tensor:', X.shape)\n",
    "print('Shape of label tensor:', labels.shape)\n",
    "\n",
    "y = to_categorical(np.asarray(labels))\n",
    "#=================================================================================================================\n",
    "# Split the X & y into train and test sets\n",
    "from sklearn.model_selection import train_test_split\n",
    "X_train, X_test, y_train, y_test = train_test_split(X, y, test_size=0.2, random_state = 7)\n",
    "# Refer the report Appendix\n",
    "# Please enter the random_state assigned to your group"
   ]
  },
  {
   "cell_type": "markdown",
   "metadata": {},
   "source": [
    "## Step 2 – Develop a Sentiment Analysis Model"
   ]
  },
  {
   "cell_type": "markdown",
   "metadata": {},
   "source": [
    "### Run pre-built embedding"
   ]
  },
  {
   "cell_type": "code",
   "execution_count": 22,
   "metadata": {},
   "outputs": [
    {
     "name": "stdout",
     "output_type": "stream",
     "text": [
      "Found 400000 word vectors.\n"
     ]
    }
   ],
   "source": [
    "#Pre-built embedding\n",
    "\n",
    "import os\n",
    "\n",
    "glove_dir = 'C:/Users/Keck Boy/Desktop/glove.6B'\n",
    "\n",
    "embeddings_index = {}\n",
    "f = open(os.path.join(glove_dir, 'glove.6B.300d.txt'), encoding=\"utf8\")\n",
    "for line in f:\n",
    "    values = line.split()\n",
    "    word = values[0]\n",
    "    coefs = np.asarray(values[1:], dtype='float32')\n",
    "    embeddings_index[word] = coefs\n",
    "f.close()\n",
    "\n",
    "print('Found %s word vectors.' % len(embeddings_index))\n",
    "\n",
    "embedding_dim = 300\n",
    "\n",
    "embedding_matrix = np.zeros((max_words, embedding_dim))\n",
    "for word, i in word_index.items():\n",
    "    embedding_vector = embeddings_index.get(word)\n",
    "    if i < max_words:\n",
    "        if embedding_vector is not None:\n",
    "            # Words not found in embedding index will be all-zeros.\n",
    "            embedding_matrix[i] = embedding_vector"
   ]
  },
  {
   "cell_type": "markdown",
   "metadata": {},
   "source": [
    "### Model #1 (Replicate as necessary for other models)"
   ]
  },
  {
   "cell_type": "code",
   "execution_count": 3,
   "metadata": {
    "scrolled": true
   },
   "outputs": [
    {
     "name": "stdout",
     "output_type": "stream",
     "text": [
      "Model: \"sequential\"\n",
      "_________________________________________________________________\n",
      "Layer (type)                 Output Shape              Param #   \n",
      "=================================================================\n",
      "embedding (Embedding)        (None, 34, 50)            2750000   \n",
      "_________________________________________________________________\n",
      "simple_rnn (SimpleRNN)       (None, 128)               22912     \n",
      "_________________________________________________________________\n",
      "dense (Dense)                (None, 32)                4128      \n",
      "_________________________________________________________________\n",
      "dense_1 (Dense)              (None, 5)                 165       \n",
      "=================================================================\n",
      "Total params: 2,777,205\n",
      "Trainable params: 27,205\n",
      "Non-trainable params: 2,750,000\n",
      "_________________________________________________________________\n"
     ]
    }
   ],
   "source": [
    "# Build the Model \n",
    "\n",
    "model = Sequential()\n",
    "model.add(Embedding(max_words, embedding_dim, input_length=max_len))\n",
    "model.add(SimpleRNN(128))\n",
    "model.add(Dense(32, activation='relu'))\n",
    "model.add(Dense(5,activation='softmax'))\n",
    "\n",
    "model.layers[0].set_weights([embedding_matrix])\n",
    "model.layers[0].trainable = False\n",
    "\n",
    "model.summary()"
   ]
  },
  {
   "cell_type": "code",
   "execution_count": 75,
   "metadata": {},
   "outputs": [
    {
     "name": "stdout",
     "output_type": "stream",
     "text": [
      "Epoch 1/10\n",
      "851/851 [==============================] - 4s 5ms/step - loss: 0.4335 - acc: 0.4638 - val_loss: 0.4134 - val_acc: 0.4852\n",
      "Epoch 2/10\n",
      "851/851 [==============================] - 4s 4ms/step - loss: 0.3997 - acc: 0.5082 - val_loss: 0.4063 - val_acc: 0.4928\n",
      "Epoch 3/10\n",
      "851/851 [==============================] - 4s 4ms/step - loss: 0.3841 - acc: 0.5316 - val_loss: 0.4056 - val_acc: 0.4940\n",
      "Epoch 4/10\n",
      "851/851 [==============================] - 4s 4ms/step - loss: 0.3709 - acc: 0.5537 - val_loss: 0.4056 - val_acc: 0.4991\n",
      "Epoch 5/10\n",
      "851/851 [==============================] - 3s 4ms/step - loss: 0.3584 - acc: 0.5735 - val_loss: 0.4116 - val_acc: 0.4968\n",
      "Epoch 6/10\n",
      "851/851 [==============================] - 4s 4ms/step - loss: 0.3471 - acc: 0.5924 - val_loss: 0.4141 - val_acc: 0.5003\n",
      "Epoch 7/10\n",
      "851/851 [==============================] - 4s 4ms/step - loss: 0.3365 - acc: 0.6118 - val_loss: 0.4231 - val_acc: 0.5001\n",
      "Epoch 8/10\n",
      "851/851 [==============================] - 4s 4ms/step - loss: 0.3267 - acc: 0.6268 - val_loss: 0.4309 - val_acc: 0.4975\n",
      "Epoch 9/10\n",
      "851/851 [==============================] - 4s 4ms/step - loss: 0.3178 - acc: 0.6432 - val_loss: 0.4382 - val_acc: 0.4975\n",
      "Epoch 10/10\n",
      "851/851 [==============================] - 4s 4ms/step - loss: 0.3101 - acc: 0.6525 - val_loss: 0.4501 - val_acc: 0.4968\n"
     ]
    }
   ],
   "source": [
    "# Train the Model\n",
    "model.compile(optimizer='rmsprop', loss='categorical_crossentropy', metrics=['acc'])\n",
    "callbacks = [\n",
    "keras.callbacks.TensorBoard(\n",
    "log_dir='p1_log_dir',\n",
    "histogram_freq=1,)\n",
    "]\n",
    "history = model.fit(X_train, y_train,\n",
    "                    epochs=10,\n",
    "                    batch_size=32,\n",
    "                    validation_split=0.2,\n",
    "                   callbacks=callbacks)"
   ]
  },
  {
   "cell_type": "code",
   "execution_count": 76,
   "metadata": {},
   "outputs": [
    {
     "data": {
      "image/png": "[encoded data removed]",
      "text/plain": [
       "<Figure size 432x288 with 1 Axes>"
      ]
     },
     "metadata": {
      "needs_background": "light"
     },
     "output_type": "display_data"
    },
    {
     "data": {
      "image/png": "[encoded data removed]",
      "text/plain": [
       "<Figure size 432x288 with 1 Axes>"
      ]
     },
     "metadata": {
      "needs_background": "light"
     },
     "output_type": "display_data"
    }
   ],
   "source": [
    "# Plot the Training and Validation Accuracy & Loss Scores\n",
    "%matplotlib inline\n",
    "import matplotlib.pyplot as plt\n",
    "\n",
    "acc = history.history['acc']\n",
    "val_acc = history.history['val_acc']\n",
    "loss = history.history['loss']\n",
    "val_loss = history.history['val_loss']\n",
    "\n",
    "epochs = range(1, len(acc) + 1)\n",
    "\n",
    "plt.plot(epochs, acc, 'bo', label='Training acc')\n",
    "plt.plot(epochs, val_acc, 'b', label='Validation acc')\n",
    "plt.title('Training and validation accuracy')\n",
    "plt.legend()\n",
    "\n",
    "plt.figure()\n",
    "\n",
    "plt.plot(epochs, loss, 'bo', label='Training loss')\n",
    "plt.plot(epochs, val_loss, 'b', label='Validation loss')\n",
    "plt.title('Training and validation loss')\n",
    "plt.legend()\n",
    "\n",
    "plt.show()"
   ]
  },
  {
   "cell_type": "code",
   "execution_count": 36,
   "metadata": {
    "scrolled": true
   },
   "outputs": [
    {
     "name": "stdout",
     "output_type": "stream",
     "text": [
      "Model: \"sequential_18\"\n",
      "_________________________________________________________________\n",
      "Layer (type)                 Output Shape              Param #   \n",
      "=================================================================\n",
      "embedding_18 (Embedding)     (None, 34, 50)            2750000   \n",
      "_________________________________________________________________\n",
      "simple_rnn_16 (SimpleRNN)    (None, 128)               22912     \n",
      "_________________________________________________________________\n",
      "dropout_6 (Dropout)          (None, 128)               0         \n",
      "_________________________________________________________________\n",
      "dense_32 (Dense)             (None, 16)                2064      \n",
      "_________________________________________________________________\n",
      "dense_33 (Dense)             (None, 5)                 85        \n",
      "=================================================================\n",
      "Total params: 2,775,061\n",
      "Trainable params: 25,061\n",
      "Non-trainable params: 2,750,000\n",
      "_________________________________________________________________\n",
      "Epoch 1/20\n",
      "851/851 [==============================] - 23s 27ms/step - loss: 0.5227 - acc: 0.4231 - val_loss: 0.4668 - val_acc: 0.3832\n",
      "Epoch 2/20\n",
      "851/851 [==============================] - 24s 28ms/step - loss: 0.4465 - acc: 0.4601 - val_loss: 0.4366 - val_acc: 0.4697\n",
      "Epoch 3/20\n",
      "851/851 [==============================] - 24s 28ms/step - loss: 0.4374 - acc: 0.4656 - val_loss: 0.4378 - val_acc: 0.4615\n",
      "Epoch 4/20\n",
      "851/851 [==============================] - 23s 27ms/step - loss: 0.4343 - acc: 0.4687 - val_loss: 0.4354 - val_acc: 0.4598\n",
      "Epoch 5/20\n",
      "851/851 [==============================] - 22s 26ms/step - loss: 0.4337 - acc: 0.4718 - val_loss: 0.4309 - val_acc: 0.4771\n",
      "Epoch 6/20\n",
      "851/851 [==============================] - 21s 25ms/step - loss: 0.4297 - acc: 0.4787 - val_loss: 0.4445 - val_acc: 0.4368\n",
      "Epoch 7/20\n",
      "851/851 [==============================] - 22s 26ms/step - loss: 0.4273 - acc: 0.4827 - val_loss: 0.4329 - val_acc: 0.4756\n",
      "Epoch 8/20\n",
      "851/851 [==============================] - 23s 27ms/step - loss: 0.4248 - acc: 0.4874 - val_loss: 0.4230 - val_acc: 0.4922\n",
      "Epoch 9/20\n",
      "851/851 [==============================] - 21s 25ms/step - loss: 0.4227 - acc: 0.4920 - val_loss: 0.5056 - val_acc: 0.4489\n",
      "Epoch 10/20\n",
      "851/851 [==============================] - 21s 25ms/step - loss: 0.4209 - acc: 0.4906 - val_loss: 0.4198 - val_acc: 0.4938\n",
      "Epoch 11/20\n",
      "851/851 [==============================] - 21s 25ms/step - loss: 0.4174 - acc: 0.4994 - val_loss: 0.4169 - val_acc: 0.4934\n",
      "Epoch 12/20\n",
      "851/851 [==============================] - 23s 27ms/step - loss: 0.4148 - acc: 0.5059 - val_loss: 0.4255 - val_acc: 0.4821\n",
      "Epoch 13/20\n",
      "851/851 [==============================] - 24s 28ms/step - loss: 0.4134 - acc: 0.5083 - val_loss: 0.4204 - val_acc: 0.4882\n",
      "Epoch 14/20\n",
      "851/851 [==============================] - 23s 27ms/step - loss: 0.4126 - acc: 0.5044 - val_loss: 0.4162 - val_acc: 0.4978\n",
      "Epoch 15/20\n",
      "851/851 [==============================] - 27s 32ms/step - loss: 0.4104 - acc: 0.5123 - val_loss: 0.4135 - val_acc: 0.5081\n",
      "Epoch 16/20\n",
      "851/851 [==============================] - 25s 29ms/step - loss: 0.4071 - acc: 0.5178 - val_loss: 0.4111 - val_acc: 0.5066\n",
      "Epoch 17/20\n",
      "851/851 [==============================] - 24s 28ms/step - loss: 0.4032 - acc: 0.5272 - val_loss: 0.4143 - val_acc: 0.5040\n",
      "Epoch 18/20\n",
      "851/851 [==============================] - 24s 28ms/step - loss: 0.3995 - acc: 0.5318 - val_loss: 0.4110 - val_acc: 0.5078\n",
      "Epoch 19/20\n",
      "851/851 [==============================] - 22s 26ms/step - loss: 0.4005 - acc: 0.5298 - val_loss: 0.4211 - val_acc: 0.4793\n",
      "Epoch 20/20\n",
      "851/851 [==============================] - 22s 25ms/step - loss: 0.3987 - acc: 0.5331 - val_loss: 0.4112 - val_acc: 0.5088\n"
     ]
    }
   ],
   "source": [
    "model = Sequential()\n",
    "model.add(Embedding(max_words, embedding_dim, input_length=max_len))\n",
    "model.add(SimpleRNN(128))\n",
    "model.add(Dropout(0.6))\n",
    "model.add(Dense(16,activation='relu', kernel_regularizer=regularizers.l1_l2(l1=1e-3, l2=1e-3)))\n",
    "model.add(Dense(5,activation='softmax'))\n",
    "\n",
    "model.layers[0].set_weights([embedding_matrix])\n",
    "model.layers[0].trainable = False\n",
    "\n",
    "model.summary()\n",
    "\n",
    "model.compile(optimizer='rmsprop', loss='categorical_crossentropy', metrics=['acc'])\n",
    "\n",
    "callbacks = [\n",
    "keras.callbacks.TensorBoard(\n",
    "log_dir='p1_log_dir',\n",
    "histogram_freq=1,)\n",
    "]\n",
    "history = model.fit(X_train, y_train,\n",
    "                    epochs=20,\n",
    "                    batch_size=32,\n",
    "                    validation_split=0.2,\n",
    "                   callbacks=callbacks)"
   ]
  },
  {
   "cell_type": "code",
   "execution_count": 37,
   "metadata": {},
   "outputs": [
    {
     "data": {
      "image/png": "[encoded data removed]",
      "text/plain": [
       "<Figure size 432x288 with 1 Axes>"
      ]
     },
     "metadata": {
      "needs_background": "light"
     },
     "output_type": "display_data"
    },
    {
     "data": {
      "image/png": "[encoded data removed]",
      "text/plain": [
       "<Figure size 432x288 with 1 Axes>"
      ]
     },
     "metadata": {
      "needs_background": "light"
     },
     "output_type": "display_data"
    }
   ],
   "source": [
    "# Plot the Training and Validation Accuracy & Loss Scores\n",
    "%matplotlib inline\n",
    "import matplotlib.pyplot as plt\n",
    "\n",
    "acc = history.history['acc']\n",
    "val_acc = history.history['val_acc']\n",
    "loss = history.history['loss']\n",
    "val_loss = history.history['val_loss']\n",
    "\n",
    "epochs = range(1, len(acc) + 1)\n",
    "\n",
    "plt.plot(epochs, acc, 'bo', label='Training acc')\n",
    "plt.plot(epochs, val_acc, 'b', label='Validation acc')\n",
    "plt.title('Training and validation accuracy')\n",
    "plt.legend()\n",
    "\n",
    "plt.figure()\n",
    "\n",
    "plt.plot(epochs, loss, 'bo', label='Training loss')\n",
    "plt.plot(epochs, val_loss, 'b', label='Validation loss')\n",
    "plt.title('Training and validation loss')\n",
    "plt.legend()\n",
    "\n",
    "plt.show()"
   ]
  },
  {
   "cell_type": "code",
   "execution_count": 38,
   "metadata": {},
   "outputs": [],
   "source": [
    "# Save the Model\n",
    "#model.save('text_model_1.h5')"
   ]
  },
  {
   "cell_type": "markdown",
   "metadata": {},
   "source": [
    "# Model #2"
   ]
  },
  {
   "cell_type": "code",
   "execution_count": 39,
   "metadata": {},
   "outputs": [
    {
     "name": "stdout",
     "output_type": "stream",
     "text": [
      "Model: \"sequential_19\"\n",
      "_________________________________________________________________\n",
      "Layer (type)                 Output Shape              Param #   \n",
      "=================================================================\n",
      "embedding_19 (Embedding)     (None, 34, 50)            2750000   \n",
      "_________________________________________________________________\n",
      "gru_8 (GRU)                  (None, 34, 256)           236544    \n",
      "_________________________________________________________________\n",
      "gru_9 (GRU)                  (None, 34, 128)           148224    \n",
      "_________________________________________________________________\n",
      "gru_10 (GRU)                 (None, 34, 64)            37248     \n",
      "_________________________________________________________________\n",
      "gru_11 (GRU)                 (None, 32)                9408      \n",
      "_________________________________________________________________\n",
      "dense_34 (Dense)             (None, 5)                 165       \n",
      "=================================================================\n",
      "Total params: 3,181,589\n",
      "Trainable params: 3,181,589\n",
      "Non-trainable params: 0\n",
      "_________________________________________________________________\n"
     ]
    }
   ],
   "source": [
    "# Build the Model \n",
    "import os\n",
    "\n",
    "glove_dir = 'C:/Users/Keck Boy/Desktop/glove.6B'\n",
    "\n",
    "embeddings_index = {}\n",
    "f = open(os.path.join(glove_dir, 'glove.6B.50d.txt'), encoding=\"utf8\")\n",
    "for line in f:\n",
    "    values = line.split()\n",
    "    word = values[0]\n",
    "    coefs = np.asarray(values[1:], dtype='float32')\n",
    "    embeddings_index[word] = coefs\n",
    "f.close()\n",
    "\n",
    "print('Found %s word vectors.' % len(embeddings_index))\n",
    "\n",
    "embedding_dim = 50\n",
    "\n",
    "embedding_matrix = np.zeros((max_words, embedding_dim))\n",
    "for word, i in word_index.items():\n",
    "    embedding_vector = embeddings_index.get(word)\n",
    "    if i < max_words:\n",
    "        if embedding_vector is not None:\n",
    "            # Words not found in embedding index will be all-zeros.\n",
    "            embedding_matrix[i] = embedding_vector\n",
    "\n",
    "model = Sequential()\n",
    "model.add(Embedding(max_words, 50, input_length=max_len))\n",
    "model.add(GRU(256, return_sequences=True))\n",
    "model.add(GRU(128, return_sequences=True))\n",
    "model.add(GRU(64, return_sequences=True))\n",
    "model.add(GRU(32))\n",
    "#model.add(Flatten())\n",
    "model.add(Dense(5,activation=\"softmax\"))\n",
    "#model.add(GRU(5,return_sequences=True))\n",
    "\n",
    "#model.layers[0].set_weights([embedding_matrix])\n",
    "#model.layers[0].trainable = False\n",
    "\n",
    "model.summary()"
   ]
  },
  {
   "cell_type": "code",
   "execution_count": 27,
   "metadata": {},
   "outputs": [
    {
     "name": "stdout",
     "output_type": "stream",
     "text": [
      "Epoch 1/10\n",
      "851/851 [==============================] - 29s 34ms/step - loss: 0.3492 - acc: 0.5413 - val_loss: 0.3330 - val_acc: 0.5761\n",
      "Epoch 2/10\n",
      "851/851 [==============================] - 27s 31ms/step - loss: 0.2973 - acc: 0.6435 - val_loss: 0.3202 - val_acc: 0.6078\n",
      "Epoch 3/10\n",
      "851/851 [==============================] - 25s 29ms/step - loss: 0.2444 - acc: 0.7289 - val_loss: 0.3208 - val_acc: 0.6116\n",
      "Epoch 4/10\n",
      "851/851 [==============================] - 24s 28ms/step - loss: 0.1920 - acc: 0.7999 - val_loss: 0.3464 - val_acc: 0.6221\n",
      "Epoch 5/10\n",
      "851/851 [==============================] - 24s 28ms/step - loss: 0.1494 - acc: 0.8501 - val_loss: 0.3530 - val_acc: 0.6298\n",
      "Epoch 6/10\n",
      "851/851 [==============================] - 24s 28ms/step - loss: 0.1181 - acc: 0.8853 - val_loss: 0.3833 - val_acc: 0.6356\n",
      "Epoch 7/10\n",
      "851/851 [==============================] - 25s 30ms/step - loss: 0.0971 - acc: 0.9063 - val_loss: 0.4154 - val_acc: 0.6353\n",
      "Epoch 8/10\n",
      "851/851 [==============================] - 27s 31ms/step - loss: 0.0822 - acc: 0.9229 - val_loss: 0.4101 - val_acc: 0.6325\n",
      "Epoch 9/10\n",
      "851/851 [==============================] - 26s 31ms/step - loss: 0.0701 - acc: 0.9344 - val_loss: 0.4346 - val_acc: 0.6271\n",
      "Epoch 10/10\n",
      "851/851 [==============================] - 25s 30ms/step - loss: 0.0610 - acc: 0.9434 - val_loss: 0.4603 - val_acc: 0.6268\n"
     ]
    }
   ],
   "source": [
    "model.compile(optimizer='rmsprop', loss='categorical_crossentropy', metrics=['acc'])\n",
    "\n",
    "history = model.fit(X_train, y_train,\n",
    "                    epochs=10,\n",
    "                    batch_size=32,\n",
    "                    validation_split=0.2)"
   ]
  },
  {
   "cell_type": "code",
   "execution_count": 28,
   "metadata": {
    "scrolled": true
   },
   "outputs": [
    {
     "data": {
      "image/png": "[encoded data removed]",
      "text/plain": [
       "<Figure size 432x288 with 1 Axes>"
      ]
     },
     "metadata": {
      "needs_background": "light"
     },
     "output_type": "display_data"
    },
    {
     "data": {
      "image/png": "[encoded data removed]",
      "text/plain": [
       "<Figure size 432x288 with 1 Axes>"
      ]
     },
     "metadata": {
      "needs_background": "light"
     },
     "output_type": "display_data"
    }
   ],
   "source": [
    "# Plot the Training and Validation Accuracy & Loss Scores\n",
    "%matplotlib inline\n",
    "import matplotlib.pyplot as plt\n",
    "\n",
    "acc = history.history['acc']\n",
    "val_acc = history.history['val_acc']\n",
    "loss = history.history['loss']\n",
    "val_loss = history.history['val_loss']\n",
    "\n",
    "epochs = range(1, len(acc) + 1)\n",
    "\n",
    "plt.plot(epochs, acc, 'bo', label='Training acc')\n",
    "plt.plot(epochs, val_acc, 'b', label='Validation acc')\n",
    "plt.title('Training and validation accuracy')\n",
    "plt.legend()\n",
    "\n",
    "plt.figure()\n",
    "\n",
    "plt.plot(epochs, loss, 'bo', label='Training loss')\n",
    "plt.plot(epochs, val_loss, 'b', label='Validation loss')\n",
    "plt.title('Training and validation loss')\n",
    "plt.legend()\n",
    "\n",
    "plt.show()"
   ]
  },
  {
   "cell_type": "code",
   "execution_count": 20,
   "metadata": {
    "scrolled": true
   },
   "outputs": [
    {
     "name": "stdout",
     "output_type": "stream",
     "text": [
      "WARNING:tensorflow:Layer gru_1 will not use cuDNN kernel since it doesn't meet the cuDNN kernel criteria. It will use generic GPU kernel as fallback when running on GPU\n",
      "Model: \"sequential_14\"\n",
      "_________________________________________________________________\n",
      "Layer (type)                 Output Shape              Param #   \n",
      "=================================================================\n",
      "embedding_13 (Embedding)     (None, 34, 50)            2750000   \n",
      "_________________________________________________________________\n",
      "gru_1 (GRU)                  (None, 32)                8064      \n",
      "_________________________________________________________________\n",
      "dense_19 (Dense)             (None, 5)                 165       \n",
      "=================================================================\n",
      "Total params: 2,758,229\n",
      "Trainable params: 8,229\n",
      "Non-trainable params: 2,750,000\n",
      "_________________________________________________________________\n",
      "Epoch 1/20\n",
      "851/851 [==============================] - 125s 147ms/step - loss: 0.4375 - acc: 0.4483 - val_loss: 0.4109 - val_acc: 0.4796\n",
      "Epoch 2/20\n",
      "851/851 [==============================] - 130s 152ms/step - loss: 0.4085 - acc: 0.4916 - val_loss: 0.4003 - val_acc: 0.4990\n",
      "Epoch 3/20\n",
      "851/851 [==============================] - 126s 148ms/step - loss: 0.4003 - acc: 0.5061 - val_loss: 0.3931 - val_acc: 0.5065\n",
      "Epoch 4/20\n",
      "851/851 [==============================] - 122s 144ms/step - loss: 0.3946 - acc: 0.5169 - val_loss: 0.3885 - val_acc: 0.5185\n",
      "Epoch 5/20\n",
      "851/851 [==============================] - 124s 145ms/step - loss: 0.3907 - acc: 0.5220 - val_loss: 0.3872 - val_acc: 0.5213\n",
      "Epoch 6/20\n",
      "851/851 [==============================] - 126s 149ms/step - loss: 0.3873 - acc: 0.5302 - val_loss: 0.3851 - val_acc: 0.5254\n",
      "Epoch 7/20\n",
      "851/851 [==============================] - 125s 147ms/step - loss: 0.3846 - acc: 0.5321 - val_loss: 0.3815 - val_acc: 0.5306\n",
      "Epoch 8/20\n",
      "851/851 [==============================] - 124s 146ms/step - loss: 0.3817 - acc: 0.5366 - val_loss: 0.3793 - val_acc: 0.5348\n",
      "Epoch 9/20\n",
      "851/851 [==============================] - 128s 150ms/step - loss: 0.3807 - acc: 0.5384 - val_loss: 0.3784 - val_acc: 0.5363\n",
      "Epoch 10/20\n",
      "851/851 [==============================] - 123s 145ms/step - loss: 0.3784 - acc: 0.5421 - val_loss: 0.3781 - val_acc: 0.5366\n",
      "Epoch 11/20\n",
      "851/851 [==============================] - 134s 157ms/step - loss: 0.3758 - acc: 0.5486 - val_loss: 0.3764 - val_acc: 0.5417\n",
      "Epoch 12/20\n",
      "851/851 [==============================] - 143s 167ms/step - loss: 0.3751 - acc: 0.5480 - val_loss: 0.3778 - val_acc: 0.5372\n",
      "Epoch 13/20\n",
      "851/851 [==============================] - 131s 153ms/step - loss: 0.3736 - acc: 0.5502 - val_loss: 0.3753 - val_acc: 0.5417\n",
      "Epoch 14/20\n",
      "851/851 [==============================] - 125s 146ms/step - loss: 0.3722 - acc: 0.5528 - val_loss: 0.3755 - val_acc: 0.5405\n",
      "Epoch 15/20\n",
      "851/851 [==============================] - 123s 145ms/step - loss: 0.3710 - acc: 0.5546 - val_loss: 0.3738 - val_acc: 0.5400\n",
      "Epoch 16/20\n",
      "851/851 [==============================] - 118s 138ms/step - loss: 0.3696 - acc: 0.5562 - val_loss: 0.3730 - val_acc: 0.5442\n",
      "Epoch 17/20\n",
      "851/851 [==============================] - 117s 138ms/step - loss: 0.3702 - acc: 0.5562 - val_loss: 0.3737 - val_acc: 0.5458\n",
      "Epoch 18/20\n",
      "851/851 [==============================] - 117s 137ms/step - loss: 0.3687 - acc: 0.5580 - val_loss: 0.3733 - val_acc: 0.5439\n",
      "Epoch 19/20\n",
      "851/851 [==============================] - 117s 137ms/step - loss: 0.3683 - acc: 0.5597 - val_loss: 0.3722 - val_acc: 0.5477\n",
      "Epoch 20/20\n",
      "851/851 [==============================] - 117s 137ms/step - loss: 0.3673 - acc: 0.5593 - val_loss: 0.3712 - val_acc: 0.5455\n"
     ]
    },
    {
     "data": {
      "image/png": "[encoded data removed]",
      "text/plain": [
       "<Figure size 432x288 with 1 Axes>"
      ]
     },
     "metadata": {
      "needs_background": "light"
     },
     "output_type": "display_data"
    },
    {
     "data": {
      "image/png": "[encoded data removed]",
      "text/plain": [
       "<Figure size 432x288 with 1 Axes>"
      ]
     },
     "metadata": {
      "needs_background": "light"
     },
     "output_type": "display_data"
    }
   ],
   "source": [
    "model = Sequential()\n",
    "model.add(Embedding(max_words, \n",
    "                    embedding_dim, \n",
    "                    embeddings_initializer=Constant(embedding_matrix), \n",
    "                    input_length=max_len,\n",
    "                    trainable=False))\n",
    "#model.add(GRU(256, return_sequences=True))\n",
    "#model.add(GRU(128, return_sequences=True))\n",
    "#model.add(GRU(64, return_sequences=True))\n",
    "model.add(GRU(32, dropout=0.2, recurrent_dropout=0.2))\n",
    "#model.add(Dense(8, activation='relu', kernel_regularizer=regularizers.l1_l2(l1=1e-5, l2=1e-5)))\n",
    "model.add(Dense(5,activation=\"softmax\", ))\n",
    "#model.add(GRU(5,return_sequences=True))\n",
    "\n",
    "#model.layers[0].set_weights([embedding_matrix])\n",
    "#model.layers[0].trainable = False\n",
    "\n",
    "model.summary()\n",
    "\n",
    "model.compile(optimizer='rmsprop', loss='categorical_crossentropy', metrics=['acc'])\n",
    "\n",
    "callbacks = [\n",
    "keras.callbacks.TensorBoard(\n",
    "log_dir='p1_log_dir_m2',\n",
    "histogram_freq=1,)\n",
    "]\n",
    "\n",
    "history = model.fit(X_train, y_train,\n",
    "                    epochs=20,\n",
    "                    batch_size=32,\n",
    "                    validation_split=0.2,\n",
    "                   callbacks=callbacks)\n",
    "\n",
    "# Plot the Training and Validation Accuracy & Loss Scores\n",
    "%matplotlib inline\n",
    "import matplotlib.pyplot as plt\n",
    "\n",
    "acc = history.history['acc']\n",
    "val_acc = history.history['val_acc']\n",
    "loss = history.history['loss']\n",
    "val_loss = history.history['val_loss']\n",
    "\n",
    "epochs = range(1, len(acc) + 1)\n",
    "\n",
    "plt.plot(epochs, acc, 'bo', label='Training acc')\n",
    "plt.plot(epochs, val_acc, 'b', label='Validation acc')\n",
    "plt.title('Training and validation accuracy')\n",
    "plt.legend()\n",
    "\n",
    "plt.figure()\n",
    "\n",
    "plt.plot(epochs, loss, 'bo', label='Training loss')\n",
    "plt.plot(epochs, val_loss, 'b', label='Validation loss')\n",
    "plt.title('Training and validation loss')\n",
    "plt.legend()\n",
    "\n",
    "plt.show()"
   ]
  },
  {
   "cell_type": "code",
   "execution_count": 21,
   "metadata": {},
   "outputs": [],
   "source": [
    "# Save the Model\n",
    "#model.save('text_model_2.h5')"
   ]
  },
  {
   "cell_type": "markdown",
   "metadata": {},
   "source": [
    "# Model 3"
   ]
  },
  {
   "cell_type": "code",
   "execution_count": 16,
   "metadata": {},
   "outputs": [
    {
     "name": "stdout",
     "output_type": "stream",
     "text": [
      "Found 400000 word vectors.\n",
      "Model: \"sequential_9\"\n",
      "_________________________________________________________________\n",
      "Layer (type)                 Output Shape              Param #   \n",
      "=================================================================\n",
      "embedding_8 (Embedding)      (None, 34, 50)            2750000   \n",
      "_________________________________________________________________\n",
      "lstm_23 (LSTM)               (None, 34, 256)           314368    \n",
      "_________________________________________________________________\n",
      "lstm_24 (LSTM)               (None, 34, 128)           197120    \n",
      "_________________________________________________________________\n",
      "lstm_25 (LSTM)               (None, 34, 64)            49408     \n",
      "_________________________________________________________________\n",
      "lstm_26 (LSTM)               (None, 32)                12416     \n",
      "_________________________________________________________________\n",
      "dense_12 (Dense)             (None, 5)                 165       \n",
      "=================================================================\n",
      "Total params: 3,323,477\n",
      "Trainable params: 573,477\n",
      "Non-trainable params: 2,750,000\n",
      "_________________________________________________________________\n",
      "Epoch 1/10\n",
      "851/851 [==============================] - 15s 18ms/step - loss: 0.4260 - acc: 0.4656 - val_loss: 0.4080 - val_acc: 0.4822\n",
      "Epoch 2/10\n",
      "851/851 [==============================] - 14s 17ms/step - loss: 0.3984 - acc: 0.5079 - val_loss: 0.3937 - val_acc: 0.5132\n",
      "Epoch 3/10\n",
      "851/851 [==============================] - 14s 16ms/step - loss: 0.3807 - acc: 0.5402 - val_loss: 0.3805 - val_acc: 0.5278\n",
      "Epoch 4/10\n",
      "851/851 [==============================] - 14s 16ms/step - loss: 0.3652 - acc: 0.5648 - val_loss: 0.3830 - val_acc: 0.5373\n",
      "Epoch 5/10\n",
      "851/851 [==============================] - 13s 16ms/step - loss: 0.3485 - acc: 0.5906 - val_loss: 0.3699 - val_acc: 0.5527\n",
      "Epoch 6/10\n",
      "851/851 [==============================] - 13s 16ms/step - loss: 0.3298 - acc: 0.6197 - val_loss: 0.3781 - val_acc: 0.5466\n",
      "Epoch 7/10\n",
      "851/851 [==============================] - 13s 16ms/step - loss: 0.3078 - acc: 0.6524 - val_loss: 0.3835 - val_acc: 0.5548\n",
      "Epoch 8/10\n",
      "851/851 [==============================] - 13s 16ms/step - loss: 0.2809 - acc: 0.6941 - val_loss: 0.3855 - val_acc: 0.5676\n",
      "Epoch 9/10\n",
      "851/851 [==============================] - 13s 16ms/step - loss: 0.2503 - acc: 0.7304 - val_loss: 0.4122 - val_acc: 0.5664\n",
      "Epoch 10/10\n",
      "851/851 [==============================] - 14s 16ms/step - loss: 0.2215 - acc: 0.7680 - val_loss: 0.4192 - val_acc: 0.5657\n"
     ]
    }
   ],
   "source": [
    "import os\n",
    "\n",
    "model = Sequential()\n",
    "model.add(Embedding(max_words, \n",
    "                    embedding_dim, \n",
    "                    embeddings_initializer=Constant(embedding_matrix), \n",
    "                    input_length=max_len,\n",
    "                    trainable=False))\n",
    "model.add(LSTM(256, return_sequences=True))\n",
    "model.add(LSTM(128, return_sequences=True))\n",
    "model.add(LSTM(64, return_sequences=True))\n",
    "model.add(LSTM(32))\n",
    "#model.add(Flatten())\n",
    "model.add(Dense(5,activation=\"softmax\"))\n",
    "#model.add(GRU(5,return_sequences=True))\n",
    "\n",
    "#model.layers[0].set_weights([embedding_matrix])\n",
    "#model.layers[0].trainable = False\n",
    "\n",
    "model.summary()\n",
    "\n",
    "model.compile(optimizer='rmsprop', loss='categorical_crossentropy', metrics=['acc'])\n",
    "\n",
    "history = model.fit(X_train, y_train,\n",
    "                    epochs=10,\n",
    "                    batch_size=32,\n",
    "                    validation_split=0.2)\n",
    "\n"
   ]
  },
  {
   "cell_type": "code",
   "execution_count": 17,
   "metadata": {},
   "outputs": [
    {
     "data": {
      "image/png": "[encoded data removed]",
      "text/plain": [
       "<Figure size 432x288 with 1 Axes>"
      ]
     },
     "metadata": {
      "needs_background": "light"
     },
     "output_type": "display_data"
    },
    {
     "data": {
      "image/png": "[encoded data removed]",
      "text/plain": [
       "<Figure size 432x288 with 1 Axes>"
      ]
     },
     "metadata": {
      "needs_background": "light"
     },
     "output_type": "display_data"
    }
   ],
   "source": [
    "# Plot the Training and Validation Accuracy & Loss Scores\n",
    "%matplotlib inline\n",
    "import matplotlib.pyplot as plt\n",
    "\n",
    "acc = history.history['acc']\n",
    "val_acc = history.history['val_acc']\n",
    "loss = history.history['loss']\n",
    "val_loss = history.history['val_loss']\n",
    "\n",
    "epochs = range(1, len(acc) + 1)\n",
    "\n",
    "plt.plot(epochs, acc, 'bo', label='Training acc')\n",
    "plt.plot(epochs, val_acc, 'b', label='Validation acc')\n",
    "plt.title('Training and validation accuracy')\n",
    "plt.legend()\n",
    "\n",
    "plt.figure()\n",
    "\n",
    "plt.plot(epochs, loss, 'bo', label='Training loss')\n",
    "plt.plot(epochs, val_loss, 'b', label='Validation loss')\n",
    "plt.title('Training and validation loss')\n",
    "plt.legend()\n",
    "\n",
    "plt.show()"
   ]
  },
  {
   "cell_type": "code",
   "execution_count": 33,
   "metadata": {
    "scrolled": false
   },
   "outputs": [
    {
     "name": "stdout",
     "output_type": "stream",
     "text": [
      "Model: \"sequential_24\"\n",
      "_________________________________________________________________\n",
      "Layer (type)                 Output Shape              Param #   \n",
      "=================================================================\n",
      "embedding_24 (Embedding)     (None, 34, 50)            2750000   \n",
      "_________________________________________________________________\n",
      "lstm_18 (LSTM)               (None, 128)               91648     \n",
      "_________________________________________________________________\n",
      "dense_18 (Dense)             (None, 5)                 645       \n",
      "=================================================================\n",
      "Total params: 2,842,293\n",
      "Trainable params: 92,293\n",
      "Non-trainable params: 2,750,000\n",
      "_________________________________________________________________\n",
      "Epoch 1/30\n",
      "851/851 [==============================] - 7s 8ms/step - loss: 0.5139 - acc: 0.4545 - val_loss: 0.4393 - val_acc: 0.4665\n",
      "Epoch 2/30\n",
      "851/851 [==============================] - 6s 7ms/step - loss: 0.4356 - acc: 0.4729 - val_loss: 0.4282 - val_acc: 0.4816\n",
      "Epoch 3/30\n",
      "851/851 [==============================] - 6s 7ms/step - loss: 0.4310 - acc: 0.4773 - val_loss: 0.4307 - val_acc: 0.4834\n",
      "Epoch 4/30\n",
      "851/851 [==============================] - 6s 7ms/step - loss: 0.4299 - acc: 0.4804 - val_loss: 0.4274 - val_acc: 0.4783\n",
      "Epoch 5/30\n",
      "851/851 [==============================] - 6s 7ms/step - loss: 0.4277 - acc: 0.4833 - val_loss: 0.4245 - val_acc: 0.4884\n",
      "Epoch 6/30\n",
      "851/851 [==============================] - 6s 7ms/step - loss: 0.4268 - acc: 0.4830 - val_loss: 0.4194 - val_acc: 0.4954\n",
      "Epoch 7/30\n",
      "851/851 [==============================] - 6s 7ms/step - loss: 0.4261 - acc: 0.4855 - val_loss: 0.4252 - val_acc: 0.4841\n",
      "Epoch 8/30\n",
      "851/851 [==============================] - 6s 7ms/step - loss: 0.4249 - acc: 0.4860 - val_loss: 0.4253 - val_acc: 0.4834\n",
      "Epoch 9/30\n",
      "851/851 [==============================] - 6s 7ms/step - loss: 0.4245 - acc: 0.4870 - val_loss: 0.4192 - val_acc: 0.4952\n",
      "Epoch 10/30\n",
      "851/851 [==============================] - 6s 7ms/step - loss: 0.4238 - acc: 0.4896 - val_loss: 0.4222 - val_acc: 0.4888\n",
      "Epoch 11/30\n",
      "851/851 [==============================] - 6s 7ms/step - loss: 0.4234 - acc: 0.4877 - val_loss: 0.4180 - val_acc: 0.4993\n",
      "Epoch 12/30\n",
      "851/851 [==============================] - 6s 7ms/step - loss: 0.4223 - acc: 0.4906 - val_loss: 0.4231 - val_acc: 0.4924\n",
      "Epoch 13/30\n",
      "851/851 [==============================] - 6s 7ms/step - loss: 0.4227 - acc: 0.4906 - val_loss: 0.4212 - val_acc: 0.4897\n",
      "Epoch 14/30\n",
      "851/851 [==============================] - 6s 7ms/step - loss: 0.4217 - acc: 0.4933 - val_loss: 0.4215 - val_acc: 0.4903\n",
      "Epoch 15/30\n",
      "851/851 [==============================] - 6s 7ms/step - loss: 0.4206 - acc: 0.4952 - val_loss: 0.4171 - val_acc: 0.5013\n",
      "Epoch 16/30\n",
      "851/851 [==============================] - 6s 7ms/step - loss: 0.4210 - acc: 0.4943 - val_loss: 0.4192 - val_acc: 0.5013\n",
      "Epoch 17/30\n",
      "851/851 [==============================] - 6s 7ms/step - loss: 0.4191 - acc: 0.5000 - val_loss: 0.4179 - val_acc: 0.4957\n",
      "Epoch 18/30\n",
      "851/851 [==============================] - 6s 7ms/step - loss: 0.4198 - acc: 0.4986 - val_loss: 0.4154 - val_acc: 0.5095\n",
      "Epoch 19/30\n",
      "851/851 [==============================] - 6s 7ms/step - loss: 0.4192 - acc: 0.4970 - val_loss: 0.4159 - val_acc: 0.5057\n",
      "Epoch 20/30\n",
      "851/851 [==============================] - 6s 7ms/step - loss: 0.4188 - acc: 0.5004 - val_loss: 0.4192 - val_acc: 0.5013\n",
      "Epoch 21/30\n",
      "851/851 [==============================] - 6s 7ms/step - loss: 0.4188 - acc: 0.4997 - val_loss: 0.4153 - val_acc: 0.5073\n",
      "Epoch 22/30\n",
      "851/851 [==============================] - 6s 7ms/step - loss: 0.4181 - acc: 0.5005 - val_loss: 0.4283 - val_acc: 0.4897\n",
      "Epoch 23/30\n",
      "851/851 [==============================] - 6s 7ms/step - loss: 0.4172 - acc: 0.5051 - val_loss: 0.4164 - val_acc: 0.5100\n",
      "Epoch 24/30\n",
      "851/851 [==============================] - 6s 7ms/step - loss: 0.4168 - acc: 0.5064 - val_loss: 0.4173 - val_acc: 0.5153\n",
      "Epoch 25/30\n",
      "851/851 [==============================] - 6s 7ms/step - loss: 0.4166 - acc: 0.5056 - val_loss: 0.4222 - val_acc: 0.4957\n",
      "Epoch 26/30\n",
      "851/851 [==============================] - 6s 7ms/step - loss: 0.4164 - acc: 0.5090 - val_loss: 0.4179 - val_acc: 0.5091\n",
      "Epoch 27/30\n",
      "851/851 [==============================] - 6s 7ms/step - loss: 0.4162 - acc: 0.5092 - val_loss: 0.4181 - val_acc: 0.5032\n",
      "Epoch 28/30\n",
      "851/851 [==============================] - 6s 7ms/step - loss: 0.4154 - acc: 0.5083 - val_loss: 0.4151 - val_acc: 0.5082\n",
      "Epoch 29/30\n",
      "851/851 [==============================] - 6s 7ms/step - loss: 0.4157 - acc: 0.5110 - val_loss: 0.4186 - val_acc: 0.5031\n",
      "Epoch 30/30\n",
      "851/851 [==============================] - 6s 7ms/step - loss: 0.4145 - acc: 0.5109 - val_loss: 0.4162 - val_acc: 0.5082\n"
     ]
    },
    {
     "data": {
      "image/png": "[encoded data removed]",
      "text/plain": [
       "<Figure size 432x288 with 1 Axes>"
      ]
     },
     "metadata": {
      "needs_background": "light"
     },
     "output_type": "display_data"
    },
    {
     "data": {
      "image/png": "[encoded data removed]",
      "text/plain": [
       "<Figure size 432x288 with 1 Axes>"
      ]
     },
     "metadata": {
      "needs_background": "light"
     },
     "output_type": "display_data"
    }
   ],
   "source": [
    "import os\n",
    "\n",
    "model = Sequential()\n",
    "model.add(Embedding(max_words, \n",
    "                    embedding_dim, \n",
    "                    embeddings_initializer=Constant(embedding_matrix), \n",
    "                    input_length=max_len,\n",
    "                    trainable=False))\n",
    "#model.add(LSTM(256, return_sequences=True))\n",
    "#model.add(LSTM(128, return_sequences=True))\n",
    "#model.add(LSTM(64, return_sequences=True))\n",
    "model.add(LSTM(128,dropout=0.2,kernel_regularizer=regularizers.l1_l2(l1=1e-3, l2=1e-4)))\n",
    "#model.add(Flatten())\n",
    "#model.add(Dense(16,activation='relu',kernel_regularizer=regularizers.l1_l2(l1=1e-5, l2=1e-5)))\n",
    "model.add(Dense(5,activation=\"softmax\"))\n",
    "\n",
    "model.summary()\n",
    "\n",
    "model.compile(optimizer='adam', loss='categorical_crossentropy', metrics=['acc'])\n",
    "\n",
    "callbacks = [\n",
    "keras.callbacks.TensorBoard(\n",
    "log_dir='p1_log_dir_m3',\n",
    "histogram_freq=1,)\n",
    "]\n",
    "\n",
    "history = model.fit(X_train, y_train,\n",
    "                    epochs=30,\n",
    "                    batch_size=32,\n",
    "                    validation_split=0.2,\n",
    "                   callbacks=callbacks)\n",
    "\n",
    "# Plot the Training and Validation Accuracy & Loss Scores\n",
    "%matplotlib inline\n",
    "import matplotlib.pyplot as plt\n",
    "\n",
    "acc = history.history['acc']\n",
    "val_acc = history.history['val_acc']\n",
    "loss = history.history['loss']\n",
    "val_loss = history.history['val_loss']\n",
    "\n",
    "epochs = range(1, len(acc) + 1)\n",
    "\n",
    "plt.plot(epochs, acc, 'bo', label='Training acc')\n",
    "plt.plot(epochs, val_acc, 'b', label='Validation acc')\n",
    "plt.title('Training and validation accuracy')\n",
    "plt.legend()\n",
    "\n",
    "plt.figure()\n",
    "\n",
    "plt.plot(epochs, loss, 'bo', label='Training loss')\n",
    "plt.plot(epochs, val_loss, 'b', label='Validation loss')\n",
    "plt.title('Training and validation loss')\n",
    "plt.legend()\n",
    "\n",
    "plt.show()"
   ]
  },
  {
   "cell_type": "code",
   "execution_count": 34,
   "metadata": {},
   "outputs": [],
   "source": [
    "# Save the Model\n",
    "#model.save('text_model_3.h5')"
   ]
  },
  {
   "cell_type": "code",
   "execution_count": 30,
   "metadata": {
    "scrolled": true
   },
   "outputs": [
    {
     "name": "stdout",
     "output_type": "stream",
     "text": [
      "Model: \"sequential_19\"\n",
      "_________________________________________________________________\n",
      "Layer (type)                 Output Shape              Param #   \n",
      "=================================================================\n",
      "embedding_19 (Embedding)     (None, 34, 50)            2750000   \n",
      "_________________________________________________________________\n",
      "lstm_15 (LSTM)               (None, 128)               91648     \n",
      "_________________________________________________________________\n",
      "dense_19 (Dense)             (None, 64)                8256      \n",
      "_________________________________________________________________\n",
      "dense_20 (Dense)             (None, 5)                 325       \n",
      "=================================================================\n",
      "Total params: 2,850,229\n",
      "Trainable params: 2,850,229\n",
      "Non-trainable params: 0\n",
      "_________________________________________________________________\n",
      "Epoch 1/20\n",
      "851/851 [==============================] - 29s 34ms/step - loss: 1.3063 - acc: 0.4834 - val_loss: 1.1000 - val_acc: 0.5388\n",
      "Epoch 2/20\n",
      "851/851 [==============================] - 28s 33ms/step - loss: 0.9816 - acc: 0.6018 - val_loss: 1.0706 - val_acc: 0.5514\n",
      "Epoch 3/20\n",
      "851/851 [==============================] - 27s 32ms/step - loss: 0.8005 - acc: 0.6889 - val_loss: 1.0995 - val_acc: 0.5740\n",
      "Epoch 4/20\n",
      "851/851 [==============================] - 27s 32ms/step - loss: 0.6080 - acc: 0.7809 - val_loss: 1.1268 - val_acc: 0.5969 0s - loss: 0.6061 - ac\n",
      "Epoch 5/20\n",
      "851/851 [==============================] - 27s 32ms/step - loss: 0.4519 - acc: 0.8482 - val_loss: 1.2181 - val_acc: 0.6053\n",
      "Epoch 6/20\n",
      "851/851 [==============================] - 26s 31ms/step - loss: 0.3412 - acc: 0.8899 - val_loss: 1.3322 - val_acc: 0.6009\n",
      "Epoch 7/20\n",
      "851/851 [==============================] - 27s 31ms/step - loss: 0.2599 - acc: 0.9212 - val_loss: 1.4040 - val_acc: 0.6188\n",
      "Epoch 8/20\n",
      "851/851 [==============================] - 28s 33ms/step - loss: 0.2012 - acc: 0.9424 - val_loss: 1.5028 - val_acc: 0.6174\n",
      "Epoch 9/20\n",
      "851/851 [==============================] - 28s 33ms/step - loss: 0.1674 - acc: 0.9530 - val_loss: 1.5234 - val_acc: 0.6244\n",
      "Epoch 10/20\n",
      "851/851 [==============================] - 28s 33ms/step - loss: 0.1412 - acc: 0.9622 - val_loss: 1.7083 - val_acc: 0.6118\n",
      "Epoch 11/20\n",
      "851/851 [==============================] - 28s 32ms/step - loss: 0.1260 - acc: 0.9667 - val_loss: 1.7519 - val_acc: 0.6191\n",
      "Epoch 12/20\n",
      "851/851 [==============================] - 28s 33ms/step - loss: 0.1121 - acc: 0.9707 - val_loss: 1.9046 - val_acc: 0.6184\n",
      "Epoch 13/20\n",
      "851/851 [==============================] - 28s 33ms/step - loss: 0.0997 - acc: 0.9749 - val_loss: 1.9875 - val_acc: 0.6184\n",
      "Epoch 14/20\n",
      "851/851 [==============================] - 28s 33ms/step - loss: 0.0920 - acc: 0.9773 - val_loss: 2.0062 - val_acc: 0.6216\n",
      "Epoch 15/20\n",
      "851/851 [==============================] - 28s 32ms/step - loss: 0.0855 - acc: 0.9795 - val_loss: 2.0157 - val_acc: 0.6199\n",
      "Epoch 16/20\n",
      "851/851 [==============================] - 28s 33ms/step - loss: 0.0766 - acc: 0.9814 - val_loss: 2.0576 - val_acc: 0.6257\n",
      "Epoch 17/20\n",
      "851/851 [==============================] - 28s 33ms/step - loss: 0.0704 - acc: 0.9830 - val_loss: 2.3732 - val_acc: 0.6165\n",
      "Epoch 18/20\n",
      "851/851 [==============================] - 28s 33ms/step - loss: 0.0685 - acc: 0.9839 - val_loss: 2.1802 - val_acc: 0.6203\n",
      "Epoch 19/20\n",
      "851/851 [==============================] - 28s 33ms/step - loss: 0.0621 - acc: 0.9864 - val_loss: 2.4417 - val_acc: 0.6199\n",
      "Epoch 20/20\n",
      "851/851 [==============================] - 28s 33ms/step - loss: 0.0585 - acc: 0.9878 - val_loss: 2.4419 - val_acc: 0.6187\n"
     ]
    },
    {
     "data": {
      "image/png": "[encoded data removed]",
      "text/plain": [
       "<Figure size 432x288 with 1 Axes>"
      ]
     },
     "metadata": {
      "needs_background": "light"
     },
     "output_type": "display_data"
    },
    {
     "data": {
      "image/png": "[encoded data removed]",
      "text/plain": [
       "<Figure size 432x288 with 1 Axes>"
      ]
     },
     "metadata": {
      "needs_background": "light"
     },
     "output_type": "display_data"
    }
   ],
   "source": [
    "model=Sequential()\n",
    "model.add(Embedding(max_words,50, input_length=max_len))\n",
    "'''model.add(Embedding(max_words, \n",
    "                    embedding_dim, \n",
    "                    embeddings_initializer=Constant(embedding_matrix), \n",
    "                    input_length=max_len,\n",
    "                    trainable=False))'''\n",
    "model.add(LSTM(128,dropout=0.2,kernel_regularizer=regularizers.l1_l2(l1=1e-3, l2=1e-3)))\n",
    "model.add(Dense(64,activation='relu'))\n",
    "model.add(Dense(5,activation='softmax'))\n",
    "model.summary()\n",
    "model.compile(optimizer='adam', loss='categorical_crossentropy', metrics=['acc'])\n",
    "\n",
    "callbacks = [\n",
    "keras.callbacks.TensorBoard(\n",
    "log_dir='p1_log_dir_m3',\n",
    "histogram_freq=1,)\n",
    "]\n",
    "\n",
    "history = model.fit(X_train, y_train,\n",
    "                    epochs=20,\n",
    "                    batch_size=32,\n",
    "                    validation_split=0.2,\n",
    "                   callbacks=callbacks)\n",
    "\n",
    "\n",
    "# Plot the Training and Validation Accuracy & Loss Scores\n",
    "%matplotlib inline\n",
    "import matplotlib.pyplot as plt\n",
    "\n",
    "acc = history.history['acc']\n",
    "val_acc = history.history['val_acc']\n",
    "loss = history.history['loss']\n",
    "val_loss = history.history['val_loss']\n",
    "\n",
    "epochs = range(1, len(acc) + 1)\n",
    "\n",
    "plt.plot(epochs, acc, 'bo', label='Training acc')\n",
    "plt.plot(epochs, val_acc, 'b', label='Validation acc')\n",
    "plt.title('Training and validation accuracy')\n",
    "plt.legend()\n",
    "\n",
    "plt.figure()\n",
    "\n",
    "plt.plot(epochs, loss, 'bo', label='Training loss')\n",
    "plt.plot(epochs, val_loss, 'b', label='Validation loss')\n",
    "plt.title('Training and validation loss')\n",
    "plt.legend()\n",
    "\n",
    "plt.show()"
   ]
  },
  {
   "cell_type": "markdown",
   "metadata": {},
   "source": [
    "## Step 3 – Evaluate the Model using Testing Data "
   ]
  },
  {
   "cell_type": "code",
   "execution_count": 37,
   "metadata": {
    "scrolled": true
   },
   "outputs": [
    {
     "name": "stdout",
     "output_type": "stream",
     "text": [
      "Epoch 1/20\n",
      "266/266 [==============================] - 7s 27ms/step - loss: 1.2391 - acc: 0.4996\n",
      "Epoch 2/20\n",
      "266/266 [==============================] - 7s 26ms/step - loss: 1.2392 - acc: 0.5043\n",
      "Epoch 3/20\n",
      "266/266 [==============================] - 7s 26ms/step - loss: 1.2083 - acc: 0.5160: 1s - l\n",
      "Epoch 4/20\n",
      "266/266 [==============================] - 6s 24ms/step - loss: 1.1858 - acc: 0.5336\n",
      "Epoch 5/20\n",
      "266/266 [==============================] - 6s 24ms/step - loss: 1.1737 - acc: 0.5286\n",
      "Epoch 6/20\n",
      "266/266 [==============================] - 6s 24ms/step - loss: 1.1540 - acc: 0.5410\n",
      "Epoch 7/20\n",
      "266/266 [==============================] - 7s 25ms/step - loss: 1.1332 - acc: 0.5525\n",
      "Epoch 8/20\n",
      "266/266 [==============================] - 7s 25ms/step - loss: 1.1214 - acc: 0.5590\n",
      "Epoch 9/20\n",
      "266/266 [==============================] - 7s 26ms/step - loss: 1.1043 - acc: 0.5712\n",
      "Epoch 10/20\n",
      "266/266 [==============================] - 7s 27ms/step - loss: 1.1180 - acc: 0.5593\n",
      "Epoch 11/20\n",
      "266/266 [==============================] - 7s 26ms/step - loss: 1.0922 - acc: 0.5761\n",
      "Epoch 12/20\n",
      "266/266 [==============================] - 7s 27ms/step - loss: 1.0605 - acc: 0.5830\n",
      "Epoch 13/20\n",
      "266/266 [==============================] - 7s 27ms/step - loss: 1.0456 - acc: 0.5944\n",
      "Epoch 14/20\n",
      "266/266 [==============================] - 7s 28ms/step - loss: 1.0427 - acc: 0.5951\n",
      "Epoch 15/20\n",
      "266/266 [==============================] - 7s 26ms/step - loss: 1.0181 - acc: 0.6043\n",
      "Epoch 16/20\n",
      "266/266 [==============================] - 6s 24ms/step - loss: 1.0059 - acc: 0.6096\n",
      "Epoch 17/20\n",
      "266/266 [==============================] - 6s 24ms/step - loss: 1.0249 - acc: 0.6031\n",
      "Epoch 18/20\n",
      "266/266 [==============================] - 6s 24ms/step - loss: 0.9812 - acc: 0.6221\n",
      "Epoch 19/20\n",
      "266/266 [==============================] - 7s 25ms/step - loss: 0.9700 - acc: 0.6233\n",
      "Epoch 20/20\n",
      "266/266 [==============================] - 7s 25ms/step - loss: 0.9479 - acc: 0.6380\n"
     ]
    }
   ],
   "source": [
    "# Model #1 (replicate where necessary for other models)\n",
    "model = Sequential()\n",
    "model.add(Embedding(max_words, embedding_dim, input_length=max_len))\n",
    "model.add(SimpleRNN(128))\n",
    "model.add(Dropout(0.6))\n",
    "model.add(Dense(16,activation='relu'))\n",
    "model.add(Dense(5,activation='softmax'))\n",
    "\n",
    "model.layers[0].set_weights([embedding_matrix])\n",
    "model.layers[0].trainable = False\n",
    "\n",
    "model.load_weights('text_model_1.h5')\n",
    "\n",
    "model.compile(optimizer='rmsprop', loss='categorical_crossentropy', metrics=['acc'])\n",
    "history = model.fit(X_test, y_test,\n",
    "                    epochs=20,\n",
    "                    batch_size=32,)\n",
    "                    #validation_split=0.2)"
   ]
  },
  {
   "cell_type": "code",
   "execution_count": 38,
   "metadata": {},
   "outputs": [],
   "source": [
    "# 64% test accuracy\n",
    "#model.save('text_model_1_test.h5')"
   ]
  },
  {
   "cell_type": "code",
   "execution_count": 39,
   "metadata": {
    "scrolled": true
   },
   "outputs": [
    {
     "name": "stdout",
     "output_type": "stream",
     "text": [
      "Epoch 1/20\n",
      "266/266 [==============================] - 1s 5ms/step - loss: 1.1118 - acc: 0.5570\n",
      "Epoch 2/20\n",
      "266/266 [==============================] - 1s 5ms/step - loss: 1.0873 - acc: 0.5676\n",
      "Epoch 3/20\n",
      "266/266 [==============================] - 1s 5ms/step - loss: 1.0698 - acc: 0.5749\n",
      "Epoch 4/20\n",
      "266/266 [==============================] - 1s 5ms/step - loss: 1.0517 - acc: 0.5843\n",
      "Epoch 5/20\n",
      "266/266 [==============================] - 1s 5ms/step - loss: 1.0398 - acc: 0.5877\n",
      "Epoch 6/20\n",
      "266/266 [==============================] - 1s 5ms/step - loss: 1.0258 - acc: 0.5921\n",
      "Epoch 7/20\n",
      "266/266 [==============================] - 1s 5ms/step - loss: 1.0125 - acc: 0.5966\n",
      "Epoch 8/20\n",
      "266/266 [==============================] - 1s 5ms/step - loss: 1.0001 - acc: 0.6024\n",
      "Epoch 9/20\n",
      "266/266 [==============================] - 1s 5ms/step - loss: 0.9882 - acc: 0.6096\n",
      "Epoch 10/20\n",
      "266/266 [==============================] - 1s 5ms/step - loss: 0.9768 - acc: 0.6123\n",
      "Epoch 11/20\n",
      "266/266 [==============================] - 1s 5ms/step - loss: 0.9650 - acc: 0.6135\n",
      "Epoch 12/20\n",
      "266/266 [==============================] - 1s 5ms/step - loss: 0.9537 - acc: 0.6233\n",
      "Epoch 13/20\n",
      "266/266 [==============================] - 1s 5ms/step - loss: 0.9431 - acc: 0.6273\n",
      "Epoch 14/20\n",
      "266/266 [==============================] - 1s 5ms/step - loss: 0.9325 - acc: 0.6322\n",
      "Epoch 15/20\n",
      "266/266 [==============================] - 1s 5ms/step - loss: 0.9207 - acc: 0.6340\n",
      "Epoch 16/20\n",
      "266/266 [==============================] - 1s 5ms/step - loss: 0.9118 - acc: 0.6376\n",
      "Epoch 17/20\n",
      "266/266 [==============================] - 1s 5ms/step - loss: 0.9026 - acc: 0.6477\n",
      "Epoch 18/20\n",
      "266/266 [==============================] - 1s 5ms/step - loss: 0.8923 - acc: 0.6475\n",
      "Epoch 19/20\n",
      "266/266 [==============================] - 1s 5ms/step - loss: 0.8832 - acc: 0.6499\n",
      "Epoch 20/20\n",
      "266/266 [==============================] - 1s 5ms/step - loss: 0.8726 - acc: 0.6605\n"
     ]
    }
   ],
   "source": [
    "model = Sequential()\n",
    "model.add(Embedding(max_words, \n",
    "                    embedding_dim, \n",
    "                    embeddings_initializer=Constant(embedding_matrix), \n",
    "                    input_length=max_len,\n",
    "                    trainable=False))\n",
    "model.add(GRU(32))\n",
    "model.add(Dense(5,activation=\"softmax\", ))\n",
    "\n",
    "model.load_weights('text_model_2.h5')\n",
    "\n",
    "model.compile(optimizer='rmsprop', loss='categorical_crossentropy', metrics=['acc'])\n",
    "history = model.fit(X_test, y_test,\n",
    "                    epochs=20,\n",
    "                    batch_size=32,)"
   ]
  },
  {
   "cell_type": "code",
   "execution_count": 40,
   "metadata": {},
   "outputs": [],
   "source": [
    "# 66% test accuracy\n",
    "#model.save('text_model_2_test.h5')"
   ]
  },
  {
   "cell_type": "code",
   "execution_count": 41,
   "metadata": {
    "scrolled": true
   },
   "outputs": [
    {
     "name": "stdout",
     "output_type": "stream",
     "text": [
      "Epoch 1/20\n",
      "266/266 [==============================] - 1s 5ms/step - loss: 1.2032 - acc: 0.5127\n",
      "Epoch 2/20\n",
      "266/266 [==============================] - 1s 5ms/step - loss: 1.1537 - acc: 0.5348\n",
      "Epoch 3/20\n",
      "266/266 [==============================] - 1s 5ms/step - loss: 1.1066 - acc: 0.5562\n",
      "Epoch 4/20\n",
      "266/266 [==============================] - 1s 5ms/step - loss: 1.0630 - acc: 0.5747\n",
      "Epoch 5/20\n",
      "266/266 [==============================] - 1s 5ms/step - loss: 1.0115 - acc: 0.5984\n",
      "Epoch 6/20\n",
      "266/266 [==============================] - 1s 5ms/step - loss: 0.9596 - acc: 0.6208\n",
      "Epoch 7/20\n",
      "266/266 [==============================] - 1s 5ms/step - loss: 0.9071 - acc: 0.6402\n",
      "Epoch 8/20\n",
      "266/266 [==============================] - 1s 5ms/step - loss: 0.8496 - acc: 0.6697\n",
      "Epoch 9/20\n",
      "266/266 [==============================] - 1s 5ms/step - loss: 0.7947 - acc: 0.6927\n",
      "Epoch 10/20\n",
      "266/266 [==============================] - 1s 5ms/step - loss: 0.7367 - acc: 0.7155\n",
      "Epoch 11/20\n",
      "266/266 [==============================] - 1s 5ms/step - loss: 0.6861 - acc: 0.7373\n",
      "Epoch 12/20\n",
      "266/266 [==============================] - 1s 5ms/step - loss: 0.6296 - acc: 0.7640\n",
      "Epoch 13/20\n",
      "266/266 [==============================] - 1s 5ms/step - loss: 0.5752 - acc: 0.7866\n",
      "Epoch 14/20\n",
      "266/266 [==============================] - 1s 5ms/step - loss: 0.5272 - acc: 0.8076\n",
      "Epoch 15/20\n",
      "266/266 [==============================] - 1s 5ms/step - loss: 0.4748 - acc: 0.8309\n",
      "Epoch 16/20\n",
      "266/266 [==============================] - 1s 5ms/step - loss: 0.4308 - acc: 0.8504\n",
      "Epoch 17/20\n",
      "266/266 [==============================] - 1s 5ms/step - loss: 0.3849 - acc: 0.8678\n",
      "Epoch 18/20\n",
      "266/266 [==============================] - 1s 5ms/step - loss: 0.3506 - acc: 0.8813\n",
      "Epoch 19/20\n",
      "266/266 [==============================] - 1s 5ms/step - loss: 0.3131 - acc: 0.8957\n",
      "Epoch 20/20\n",
      "266/266 [==============================] - 1s 5ms/step - loss: 0.2778 - acc: 0.9090\n"
     ]
    }
   ],
   "source": [
    "model = Sequential()\n",
    "model.add(Embedding(max_words, \n",
    "                    embedding_dim, \n",
    "                    embeddings_initializer=Constant(embedding_matrix), \n",
    "                    input_length=max_len,\n",
    "                    trainable=False))\n",
    "model.add(LSTM(128,dropout=0.2,kernel_regularizer=regularizers.l1_l2(l1=1e-3, l2=1e-4)))\n",
    "model.add(Dense(5,activation=\"softmax\"))\n",
    "\n",
    "model.load_weights('text_model_3.h5')\n",
    "\n",
    "model.compile(optimizer='rmsprop', loss='categorical_crossentropy', metrics=['acc'])\n",
    "history = model.fit(X_test, y_test,\n",
    "                    epochs=20,\n",
    "                    batch_size=32,)"
   ]
  },
  {
   "cell_type": "code",
   "execution_count": 42,
   "metadata": {},
   "outputs": [],
   "source": [
    "# 90% test accuracy\n",
    "#model.save('text_model_3_test.h5')"
   ]
  },
  {
   "cell_type": "code",
   "execution_count": 43,
   "metadata": {},
   "outputs": [],
   "source": [
    "# Save the Best Model\n",
    "model.save('text_model_best.h5')"
   ]
  },
  {
   "cell_type": "markdown",
   "metadata": {},
   "source": [
    "## Step 4 – Use the Best Model to make prediction"
   ]
  },
  {
   "cell_type": "code",
   "execution_count": 3,
   "metadata": {},
   "outputs": [],
   "source": [
    "model = Sequential()\n",
    "model.add(Embedding(max_words, \n",
    "                    embedding_dim, \n",
    "                    embeddings_initializer=Constant(embedding_matrix), \n",
    "                    input_length=max_len,\n",
    "                    trainable=False))\n",
    "model.add(LSTM(128))\n",
    "model.add(Dense(5,activation=\"softmax\"))\n",
    "model.load_weights('text_model_best.h5')"
   ]
  },
  {
   "cell_type": "code",
   "execution_count": 4,
   "metadata": {},
   "outputs": [
    {
     "name": "stdout",
     "output_type": "stream",
     "text": [
      "Let's get lit!\n"
     ]
    }
   ],
   "source": [
    "# takes the user input\n",
    "text_input = np.array([input()])"
   ]
  },
  {
   "cell_type": "code",
   "execution_count": 5,
   "metadata": {},
   "outputs": [],
   "source": [
    "# convert the user input into numeric tensor\n",
    "input_token =tokenizer.texts_to_sequences(text_input)\n",
    "input_token_pad = pad_sequences(input_token, maxlen=max_len)"
   ]
  },
  {
   "cell_type": "code",
   "execution_count": 8,
   "metadata": {},
   "outputs": [
    {
     "name": "stdout",
     "output_type": "stream",
     "text": [
      "The prediction is:  ❤ \n",
      "\n",
      "           0        1        2         3         4\n",
      "0  0.088856  0.24829  0.00701  0.241881  0.413963\n"
     ]
    }
   ],
   "source": [
    "# show the model output using predict function\n",
    "emoji_dictionary.items()\n",
    "emoji_dictionary.values()\n",
    "prob = model.predict(input_token_pad)\n",
    "prob_df = pd.DataFrame(prob, columns = emoji_dictionary.keys())\n",
    "result = emoji_dictionary[np.argmax(prob)]\n",
    "print('The prediction is: ', result, '\\n\\n', prob_df)"
   ]
  },
  {
   "cell_type": "code",
   "execution_count": 9,
   "metadata": {},
   "outputs": [
    {
     "name": "stdout",
     "output_type": "stream",
     "text": [
      "I love this!\n",
      "The prediction is:  😍 \n",
      "\n",
      "           0         1         2         3         4\n",
      "0  0.549699  0.107564  0.000096  0.000203  0.342437\n"
     ]
    }
   ],
   "source": [
    "# takes the user input\n",
    "text_input = np.array([input()])\n",
    "# convert the user input into numeric tensor\n",
    "input_token =tokenizer.texts_to_sequences(text_input)\n",
    "input_token_pad = pad_sequences(input_token, maxlen=max_len)\n",
    "# show the model output using predict function\n",
    "emoji_dictionary.items()\n",
    "emoji_dictionary.values()\n",
    "prob = model.predict(input_token_pad)\n",
    "prob_df = pd.DataFrame(prob, columns = emoji_dictionary.keys())\n",
    "result = emoji_dictionary[np.argmax(prob)]\n",
    "print('The prediction is: ', result, '\\n\\n', prob_df)"
   ]
  },
  {
   "cell_type": "code",
   "execution_count": 10,
   "metadata": {},
   "outputs": [
    {
     "name": "stdout",
     "output_type": "stream",
     "text": [
      "That's hot!\n",
      "The prediction is:  ❤ \n",
      "\n",
      "           0         1         2         3         4\n",
      "0  0.052707  0.193665  0.048446  0.214774  0.490409\n"
     ]
    }
   ],
   "source": [
    "# takes the user input\n",
    "text_input = np.array([input()])\n",
    "# convert the user input into numeric tensor\n",
    "input_token =tokenizer.texts_to_sequences(text_input)\n",
    "input_token_pad = pad_sequences(input_token, maxlen=max_len)\n",
    "# show the model output using predict function\n",
    "emoji_dictionary.items()\n",
    "emoji_dictionary.values()\n",
    "prob = model.predict(input_token_pad)\n",
    "prob_df = pd.DataFrame(prob, columns = emoji_dictionary.keys())\n",
    "result = emoji_dictionary[np.argmax(prob)]\n",
    "print('The prediction is: ', result, '\\n\\n', prob_df)"
   ]
  },
  {
   "cell_type": "code",
   "execution_count": 17,
   "metadata": {},
   "outputs": [
    {
     "name": "stdout",
     "output_type": "stream",
     "text": [
      "That's fire though\n",
      "The prediction is:  🔥 \n",
      "\n",
      "          0         1         2         3         4\n",
      "0  0.03277  0.243795  0.010444  0.639554  0.073437\n"
     ]
    }
   ],
   "source": [
    "# takes the user input\n",
    "text_input = np.array([input()])\n",
    "# convert the user input into numeric tensor\n",
    "input_token =tokenizer.texts_to_sequences(text_input)\n",
    "input_token_pad = pad_sequences(input_token, maxlen=max_len)\n",
    "# show the model output using predict function\n",
    "emoji_dictionary.items()\n",
    "emoji_dictionary.values()\n",
    "prob = model.predict(input_token_pad)\n",
    "prob_df = pd.DataFrame(prob, columns = emoji_dictionary.keys())\n",
    "result = emoji_dictionary[np.argmax(prob)]\n",
    "print('The prediction is: ', result, '\\n\\n', prob_df)"
   ]
  },
  {
   "cell_type": "code",
   "execution_count": 18,
   "metadata": {},
   "outputs": [
    {
     "name": "stdout",
     "output_type": "stream",
     "text": [
      "LOL IM CRYING!\n",
      "The prediction is:  😂 \n",
      "\n",
      "           0        1         2        3         4\n",
      "0  0.000772  0.99864  0.000068  0.00031  0.000211\n"
     ]
    }
   ],
   "source": [
    "# takes the user input\n",
    "text_input = np.array([input()])\n",
    "# convert the user input into numeric tensor\n",
    "input_token =tokenizer.texts_to_sequences(text_input)\n",
    "input_token_pad = pad_sequences(input_token, maxlen=max_len)\n",
    "# show the model output using predict function\n",
    "emoji_dictionary.items()\n",
    "emoji_dictionary.values()\n",
    "prob = model.predict(input_token_pad)\n",
    "prob_df = pd.DataFrame(prob, columns = emoji_dictionary.keys())\n",
    "result = emoji_dictionary[np.argmax(prob)]\n",
    "print('The prediction is: ', result, '\\n\\n', prob_df)"
   ]
  },
  {
   "cell_type": "markdown",
   "metadata": {},
   "source": [
    "# {0: '😍', 1: '😂', 2: '📷', 3: '🔥', 4: '❤'}"
   ]
  },
  {
   "cell_type": "code",
   "execution_count": 19,
   "metadata": {},
   "outputs": [
    {
     "data": {
      "text/plain": [
       "array([[0.21519567, 0.06989814, 0.0022112 , 0.0196499 , 0.43954656],\n",
       "       [0.15964821, 0.70615584, 0.01406145, 0.05860203, 0.14399531],\n",
       "       [0.10365199, 0.5198234 , 0.02887742, 0.01408553, 0.12842411],\n",
       "       [0.26203096, 0.11898037, 0.15883355, 0.11118222, 0.5754637 ],\n",
       "       [0.17809547, 0.18952864, 0.10567205, 0.05249959, 0.48232967],\n",
       "       [0.0134063 , 0.5659155 , 0.00123721, 0.00493792, 0.01628757]],\n",
       "      dtype=float32)"
      ]
     },
     "execution_count": 19,
     "metadata": {},
     "output_type": "execute_result"
    }
   ],
   "source": [
    "model = Sequential()\n",
    "model.add(Embedding(max_words, embedding_dim, input_length=max_len))\n",
    "model.add(SimpleRNN(128))\n",
    "model.add(Dropout(0.6))\n",
    "model.add(Dense(16,activation='relu'))\n",
    "model.add(Dense(5,activation='sigmoid'))\n",
    "\n",
    "model.layers[0].set_weights([embedding_matrix])\n",
    "model.layers[0].trainable = False\n",
    "\n",
    "model.load_weights('text_model_1_test.h5')\n",
    "sample_1 = \"I love this\"\n",
    "sample_2 = \"That has hilarious\"\n",
    "sample_3 = \"Cinematography was awful\"\n",
    "sample_4 = \"It's lit\"\n",
    "sample_5 = \"AMAZING!\"\n",
    "sample_6 = \"LOL WHAT\"\n",
    "sample_array = [sample_1,sample_2,sample_3,sample_4, sample_5, sample_6]\n",
    "\n",
    "#sample = np.array([\"This is terrible!\"])\n",
    "text_token = tokenizer.texts_to_sequences(sample_array)\n",
    "text_token_pad = pad_sequences(text_token, maxlen=max_len)\n",
    "\n",
    "#sample_token = tokenizer.texts_to_sequences(sample)\n",
    "#sample_token_pad = pad_sequences(sample_token,maxlen=max_len)\n",
    "\n",
    "model.predict(text_token_pad)\n",
    "#model.predict(sample_token_pad)"
   ]
  },
  {
   "cell_type": "code",
   "execution_count": 20,
   "metadata": {},
   "outputs": [
    {
     "data": {
      "text/plain": [
       "array([[1.5384951e-01, 4.3849494e-02, 6.7993096e-04, 3.8362432e-03,\n",
       "        2.7590817e-01],\n",
       "       [6.6198505e-02, 9.6435881e-01, 1.6571298e-03, 1.4910846e-02,\n",
       "        6.2685043e-02],\n",
       "       [4.2119019e-02, 5.5741161e-01, 1.2035417e-02, 1.1944526e-01,\n",
       "        2.9959945e-02],\n",
       "       [5.2254610e-02, 4.9654987e-02, 7.1388977e-03, 3.1360981e-01,\n",
       "        1.3225614e-01],\n",
       "       [4.4142404e-01, 1.1851541e-01, 6.8012695e-03, 3.9444644e-02,\n",
       "        2.2484998e-01],\n",
       "       [3.9761458e-02, 8.6601615e-01, 1.6373043e-03, 4.0978532e-02,\n",
       "        1.1888455e-01]], dtype=float32)"
      ]
     },
     "execution_count": 20,
     "metadata": {},
     "output_type": "execute_result"
    }
   ],
   "source": [
    "model = Sequential()\n",
    "model.add(Embedding(max_words, \n",
    "                    embedding_dim, \n",
    "                    embeddings_initializer=Constant(embedding_matrix), \n",
    "                    input_length=max_len,\n",
    "                    trainable=False))\n",
    "model.add(GRU(32))\n",
    "model.add(Dense(5,activation=\"sigmoid\", ))\n",
    "\n",
    "model.load_weights('text_model_2_test.h5')\n",
    "sample_1 = \"I love this\"\n",
    "sample_2 = \"That has hilarious\"\n",
    "sample_3 = \"Cinematography was awful\"\n",
    "sample_4 = \"It's lit\"\n",
    "sample_5 = \"AMAZING!\"\n",
    "sample_6 = \"LOL WHAT\"\n",
    "text_input = [sample_1,sample_2,sample_3,sample_4, sample_5, sample_6]\n",
    "\n",
    "sample = np.array([\"This is terrible!\"])\n",
    "text_token = tokenizer.texts_to_sequences(text_input)\n",
    "text_token_pad = pad_sequences(text_token, maxlen=max_len)\n",
    "\n",
    "#sample_token = tokenizer.texts_to_sequences(sample)\n",
    "#sample_token_pad = pad_sequences(sample_token,maxlen=max_len)\n",
    "\n",
    "model.predict(text_token_pad)"
   ]
  },
  {
   "cell_type": "code",
   "execution_count": 21,
   "metadata": {},
   "outputs": [
    {
     "data": {
      "text/plain": [
       "array([[5.49698949e-01, 1.07564263e-01, 9.60405814e-05, 2.03471340e-04,\n",
       "        3.42437297e-01],\n",
       "       [3.01312320e-02, 9.35351670e-01, 4.73648915e-03, 1.67442430e-02,\n",
       "        1.30363135e-02],\n",
       "       [2.92571913e-02, 8.11934054e-01, 5.10807000e-02, 4.01819386e-02,\n",
       "        6.75460398e-02],\n",
       "       [1.00559503e-01, 4.16542180e-02, 3.05602513e-02, 3.31211269e-01,\n",
       "        4.96014655e-01],\n",
       "       [1.55520350e-01, 3.65075588e-01, 1.09593168e-01, 2.41468158e-02,\n",
       "        3.45664114e-01],\n",
       "       [4.22768993e-03, 9.76744056e-01, 3.95574898e-04, 7.13655818e-03,\n",
       "        1.14960009e-02]], dtype=float32)"
      ]
     },
     "execution_count": 21,
     "metadata": {},
     "output_type": "execute_result"
    }
   ],
   "source": [
    "model = Sequential()\n",
    "model.add(Embedding(max_words, \n",
    "                    embedding_dim, \n",
    "                    embeddings_initializer=Constant(embedding_matrix), \n",
    "                    input_length=max_len,\n",
    "                    trainable=False))\n",
    "model.add(LSTM(128))\n",
    "model.add(Dense(5,activation=\"softmax\"))\n",
    "\n",
    "model.load_weights('text_model_3_test.h5')\n",
    "sample_1 = \"I love this\"\n",
    "sample_2 = \"That has hilarious\"\n",
    "sample_3 = \"Cinematography was awful\"\n",
    "sample_4 = \"It's lit\"\n",
    "sample_5 = \"AMAZING!\"\n",
    "sample_6 = \"LOL WHAT\"\n",
    "text_input = [sample_1,sample_2,sample_3,sample_4, sample_5, sample_6]\n",
    "\n",
    "sample = np.array([\"This is terrible!\"])\n",
    "text_token = tokenizer.texts_to_sequences(text_input)\n",
    "text_token_pad = pad_sequences(text_token, maxlen=max_len)\n",
    "\n",
    "#sample_token = tokenizer.texts_to_sequences(sample)\n",
    "#sample_token_pad = pad_sequences(sample_token,maxlen=max_len)\n",
    "\n",
    "model.predict(text_token_pad)"
   ]
  },
  {
   "cell_type": "code",
   "execution_count": null,
   "metadata": {},
   "outputs": [],
   "source": []
  }
 ],
 "metadata": {
  "kernelspec": {
   "display_name": "Python 3",
   "language": "python",
   "name": "python3"
  },
  "language_info": {
   "codemirror_mode": {
    "name": "ipython",
    "version": 3
   },
   "file_extension": ".py",
   "mimetype": "text/x-python",
   "name": "python",
   "nbconvert_exporter": "python",
   "pygments_lexer": "ipython3",
   "version": "3.7.7"
  }
 },
 "nbformat": 4,
 "nbformat_minor": 2
}
